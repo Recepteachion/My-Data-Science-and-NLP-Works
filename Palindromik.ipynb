{
 "cells": [
  {
   "cell_type": "code",
   "execution_count": null,
   "metadata": {},
   "outputs": [
    {
     "name": "stdout",
     "output_type": "stream",
     "text": [
      "ess\n",
      "Not palindromik\n",
      "rec\n",
      "Not palindromik\n",
      "rer\n",
      "rer\n"
     ]
    }
   ],
   "source": [
    "class Palindrome:\n",
    "  \n",
    "  def is_palindrome(word):\n",
    "    #Please write your code here.\n",
    "    #word = word.lowercase()\n",
    "    if word[::] == word[::-1]:\n",
    "      print(word)\n",
    "    else:\n",
    "      print(\"Not palindromik\")\n",
    "      \n",
    "    \n",
    "    return None\n",
    "# word = input()\n",
    "# print(Palindrome.is_palindrome(word))\n",
    "\n",
    "while True:\n",
    "    word = input()\n",
    "    Palindrome.is_palindrome(word)"
   ]
  },
  {
   "cell_type": "code",
   "execution_count": null,
   "metadata": {},
   "outputs": [],
   "source": []
  }
 ],
 "metadata": {
  "kernelspec": {
   "display_name": "Python 3",
   "language": "python",
   "name": "python3"
  },
  "language_info": {
   "codemirror_mode": {
    "name": "ipython",
    "version": 3
   },
   "file_extension": ".py",
   "mimetype": "text/x-python",
   "name": "python",
   "nbconvert_exporter": "python",
   "pygments_lexer": "ipython3",
   "version": "3.6.4"
  }
 },
 "nbformat": 4,
 "nbformat_minor": 2
}
